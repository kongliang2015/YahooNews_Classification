{
 "cells": [
  {
   "cell_type": "code",
   "execution_count": 15,
   "metadata": {
    "collapsed": true,
    "nbpresent": {
     "id": "8129c87d-1fcf-45b0-997a-ebaa58d9e6bd"
    }
   },
   "outputs": [],
   "source": [
    "# -*- encoding: utf-8 -*-\n",
    "import sys\n",
    "reload(sys)\n",
    "sys.setdefaultencoding('utf-8')"
   ]
  },
  {
   "cell_type": "code",
   "execution_count": 16,
   "metadata": {
    "collapsed": true,
    "nbpresent": {
     "id": "824c0bd6-6bdf-426b-a3fc-aed982b75127"
    }
   },
   "outputs": [],
   "source": [
    "import numpy as np\n",
    "\n",
    "from keras.layers import Activation,Dense, Embedding, LSTM, TimeDistributed, Input, Bidirectional,Dropout,GRU\n",
    "\n",
    "from keras.models import Sequential,load_model\n",
    "\n",
    "from keras.preprocessing import sequence\n",
    "\n",
    "from sklearn.model_selection import train_test_split\n",
    "\n",
    "import collections  #用来统计词频\n",
    "import logging\n",
    "import pandas as pd"
   ]
  },
  {
   "cell_type": "code",
   "execution_count": 17,
   "metadata": {
    "collapsed": true,
    "nbpresent": {
     "id": "c61e044a-4227-47de-838a-843e116cc077"
    }
   },
   "outputs": [],
   "source": [
    "logging.basicConfig(format='%(asctime)s : %(levelname)s : %(message)s', level=logging.INFO)"
   ]
  },
  {
   "cell_type": "code",
   "execution_count": 18,
   "metadata": {
    "collapsed": false,
    "nbpresent": {
     "id": "2d486198-13b6-4a79-a0fb-75473daf81d0"
    }
   },
   "outputs": [],
   "source": [
    "# 训练模型\n",
    "def trainMdl_title(mtype,matFile,mdlFile,maxfeat):\n",
    "    \n",
    "    # 选入词典的词条数目\n",
    "    MAX_FEATURES = maxfeat\n",
    "        \n",
    "    # 选入词典的词条数目 + 2 （pad + UNK）\n",
    "    vocab_size = MAX_FEATURES + 2\n",
    "    \n",
    "    # 装载数据矩阵\n",
    "    dataMat = np.load(matFile)\n",
    "    print \"matrix shape:\",dataMat.shape\n",
    "    \n",
    "    # 取出训练数据\n",
    "    X =dataMat[:50000,:-1]\n",
    "    print \"X shape:\",X.shape\n",
    "    \n",
    "    MAX_SENTENCE_LENGTH = X.shape[1]\n",
    "    print \"MAX_SENTENCE_LENGTH:\",MAX_SENTENCE_LENGTH\n",
    "    \n",
    "    # 取出标签，保存为向量\n",
    "    y = dataMat[:50000,-1]\n",
    "    print \"y shape:\",y.shape\n",
    "    \n",
    "    # 划分数据\n",
    "    Xtrain, Xtest, ytrain, ytest = train_test_split(X, y, test_size=0.2, random_state=42)\n",
    "    \n",
    "    # 把一维的标签做onehot，pd.get_dummies的结果是df,把df转为ndarray (as_matrix())\n",
    "    ytrain_label = pd.get_dummies(ytrain).as_matrix()\n",
    "    ytest_label = pd.get_dummies(ytest).as_matrix()\n",
    "    \n",
    "#     ytrain_label = ytrain\n",
    "#     ytest_label = ytest\n",
    "    \n",
    "    print('shape of train label:',ytrain_label.shape)  \n",
    "    print('shape of test label:',ytest_label.shape)\n",
    "    \n",
    "   \n",
    "    if mtype == 'lstm':\n",
    "        # 构建网络\n",
    "        HIDDEN_LAYER_SIZE = 32\n",
    "        EMBEDDING_SIZE = 128\n",
    "        \n",
    "        model = Sequential()\n",
    "        model.add(Embedding(vocab_size, EMBEDDING_SIZE,input_length=MAX_SENTENCE_LENGTH))\n",
    "        model.add(LSTM(HIDDEN_LAYER_SIZE, dropout=0.5, recurrent_dropout=0.5))\n",
    "        model.add(Dense(2,activation='softmax'))\n",
    "        model.compile(loss=\"binary_crossentropy\", optimizer=\"adam\",metrics=[\"accuracy\"])\n",
    "    elif mtype == 'bilstm':\n",
    "        # 构建网络\n",
    "        HIDDEN_LAYER_SIZE = 32\n",
    "        EMBEDDING_SIZE = 128\n",
    "        \n",
    "        model = Sequential()\n",
    "        model.add(Embedding(vocab_size, EMBEDDING_SIZE,input_length=MAX_SENTENCE_LENGTH))\n",
    "        model.add(Bidirectional(GRU(HIDDEN_LAYER_SIZE, dropout=0.5, recurrent_dropout=0.5)))\n",
    "        model.add(Dense(2, activation='softmax'))\n",
    "        model.compile('rmsprop', 'categorical_crossentropy', metrics=['accuracy'])\n",
    "    elif mtype == 'GRU':\n",
    "        # 构建网络\n",
    "        HIDDEN_LAYER_SIZE = 32\n",
    "        EMBEDDING_SIZE = 128\n",
    "\n",
    "        model = Sequential()\n",
    "        model.add(Embedding(vocab_size, EMBEDDING_SIZE,input_length=MAX_SENTENCE_LENGTH))\n",
    "        model.add(GRU(HIDDEN_LAYER_SIZE, dropout=0.5, recurrent_dropout=0.5))\n",
    "        model.add(Dense(2,activation='softmax'))\n",
    "        # ----\n",
    "        model.compile(loss=\"binary_crossentropy\", optimizer=\"adam\",metrics=[\"accuracy\"])\n",
    "    \n",
    "    # 训练网络\n",
    "    BATCH_SIZE = 128\n",
    "    NUM_EPOCHS = 10\n",
    "    \n",
    "#     if mtype == 'bilstm':\n",
    "#         from keras.utils.np_utils import to_categorical\n",
    "#         ytrain = to_categorical(ytrain)\n",
    "#         ytest = to_categorical(ytest)\n",
    "    # lstm\n",
    "    model.fit(Xtrain, ytrain_label, batch_size=BATCH_SIZE, epochs=NUM_EPOCHS,validation_data=(Xtest, ytest_label))\n",
    "    \n",
    "    # bilstm\n",
    "#     model.fit(Xtrain, ytrain, batch_size=BATCH_SIZE, epochs=NUM_EPOCHS,validation_data=(Xtest, ytest))\n",
    "    \n",
    "    # 预测 \n",
    "    score, acc = model.evaluate(Xtest, ytest_label, batch_size=BATCH_SIZE)\n",
    "    print(\"\\nTest score: %.3f, accuracy: %.3f\" % (score, acc))\n",
    "   \n",
    "    # 模型持久化\n",
    "    model.save(mdlFile) \n",
    "    "
   ]
  },
  {
   "cell_type": "code",
   "execution_count": 19,
   "metadata": {
    "collapsed": false,
    "nbpresent": {
     "id": "4e689995-d4b9-4c9b-9eac-5b3028ef5fc3"
    }
   },
   "outputs": [],
   "source": [
    "def testModel(inFile,testFile,testTxt,mdlFile):\n",
    "      \n",
    "    # 装载模型\n",
    "    model = load_model(mdlFile)\n",
    "    \n",
    "    testLabel,testText = getTestSet(testTxt)\n",
    "    \n",
    "    # 预测 \n",
    "    print('-------------------------------------------')\n",
    "    print('{}     |   {}  |    {}'.format('AI評価','人の評価','評価原文'))\n",
    "    print('-------------------------------------------')\n",
    "    for i in range(3):\n",
    "        xtest = X[i].reshape(1,100)\n",
    "        ylabel = y[i]\n",
    "        pred = model.predict(xtest)\n",
    "        # 打印预测出的概率\n",
    "#         print pred\n",
    "        ypred = getLabel(pred[0].argmax())\n",
    "        sent = \" \".join([index2word[x] for x in xtest[0] if x != 0])\n",
    "        print('{}   |  {}   |  {}'.format(getString(ypred), getString(str(ylabel)), testText[i]))\n",
    "        print('-------------------------------------------')"
   ]
  },
  {
   "cell_type": "code",
   "execution_count": null,
   "metadata": {
    "collapsed": true,
    "nbpresent": {
     "id": "7bdd1240-611b-49a0-a6ad-965ff9963eb7"
    }
   },
   "outputs": [],
   "source": [
    "def main():\n",
    "    \n",
    "#     inFile = \"./data/test.txt\"\n",
    "    mdlPath = \"/home/hadoop/DataSencise/bdci2017/BDCI2017-360/model/\"\n",
    "    \n",
    "    matFile_title = mdlPath + \"train_matrix_title.npy\"\n",
    "    matFile_content = mdlPath + \"matrix_content.npy\"\n",
    "    \n",
    "    lstmMdl = mdlPath + \"lstm_title.h5\"\n",
    "    bilstmMdl = mdlPath + \"lstm_content.h5\"\n",
    "    GRUMdl = mdlPath + \"GRU_title.h5\"\n",
    "   \n",
    "    #\n",
    "    MAX_FEATURES = 310000\n",
    "    MAX_SENTENCE_LENGTH = 20\n",
    "        \n",
    "    # 训练    \n",
    "#     trainMdl_title('lstm',matFile_title,lstmMdl,MAX_FEATURES)\n",
    "    trainMdl_title('GRU',matFile_title,GRUMdl,MAX_FEATURES)\n"
   ]
  },
  {
   "cell_type": "code",
   "execution_count": null,
   "metadata": {
    "collapsed": false,
    "nbpresent": {
     "id": "8b8cf1de-9022-49be-b313-53576d25f2d6"
    },
    "scrolled": false
   },
   "outputs": [],
   "source": [
    "if __name__ == '__main__':\n",
    "    main()"
   ]
  }
 ],
 "metadata": {
  "anaconda-cloud": {},
  "kernelspec": {
   "display_name": "Python [default]",
   "language": "python",
   "name": "python2"
  },
  "language_info": {
   "codemirror_mode": {
    "name": "ipython",
    "version": 2
   },
   "file_extension": ".py",
   "mimetype": "text/x-python",
   "name": "python",
   "nbconvert_exporter": "python",
   "pygments_lexer": "ipython2",
   "version": "2.7.12"
  },
  "nbpresent": {
   "slides": {
    "00e2a19c-743b-44fb-bcdd-72f433ff69a6": {
     "id": "00e2a19c-743b-44fb-bcdd-72f433ff69a6",
     "prev": "b5ccee10-2a12-4efe-ab54-a54af9e550e6",
     "regions": {
      "01d0b004-81de-4594-b3d0-4210929f50d5": {
       "attrs": {
        "height": 0.8,
        "width": 0.8,
        "x": 0.1,
        "y": 0.1
       },
       "content": {
        "cell": "824c0bd6-6bdf-426b-a3fc-aed982b75127",
        "part": "whole"
       },
       "id": "01d0b004-81de-4594-b3d0-4210929f50d5"
      }
     }
    },
    "2b891ec3-7b9c-4283-94e4-7a56b5140890": {
     "id": "2b891ec3-7b9c-4283-94e4-7a56b5140890",
     "prev": "c9ac04e8-52ce-42a2-8e48-387af5ea269b",
     "regions": {
      "647ed211-96cf-415f-8d4d-be514f012c24": {
       "attrs": {
        "height": 0.8,
        "width": 0.8,
        "x": 0.1,
        "y": 0.1
       },
       "content": {
        "cell": "c10e88ce-d91c-4eda-a086-7d33ccec1ff1",
        "part": "whole"
       },
       "id": "647ed211-96cf-415f-8d4d-be514f012c24"
      }
     }
    },
    "3b0142e5-542a-4e40-8092-bf8686d1dc2e": {
     "id": "3b0142e5-542a-4e40-8092-bf8686d1dc2e",
     "prev": "2b891ec3-7b9c-4283-94e4-7a56b5140890",
     "regions": {
      "10efe84d-25e7-4dc2-b53a-9c2b8d5d706b": {
       "attrs": {
        "height": 0.8,
        "width": 0.8,
        "x": 0.1,
        "y": 0.1
       },
       "content": {
        "cell": "2d486198-13b6-4a79-a0fb-75473daf81d0",
        "part": "whole"
       },
       "id": "10efe84d-25e7-4dc2-b53a-9c2b8d5d706b"
      }
     }
    },
    "982d1bde-a086-4057-8c58-18dd7e332616": {
     "id": "982d1bde-a086-4057-8c58-18dd7e332616",
     "prev": "d0210d36-bf14-4d0b-bd83-d813a6011c7f",
     "regions": {
      "3d83836a-f6c0-4bcc-9fee-a6938d756d46": {
       "attrs": {
        "height": 0.8,
        "width": 0.8,
        "x": 0.1,
        "y": 0.1
       },
       "content": {
        "cell": "8b8cf1de-9022-49be-b313-53576d25f2d6",
        "part": "whole"
       },
       "id": "3d83836a-f6c0-4bcc-9fee-a6938d756d46"
      }
     }
    },
    "b5ccee10-2a12-4efe-ab54-a54af9e550e6": {
     "id": "b5ccee10-2a12-4efe-ab54-a54af9e550e6",
     "prev": null,
     "regions": {
      "900e725f-ccd4-4607-a252-c34610d47568": {
       "attrs": {
        "height": 0.8,
        "width": 0.8,
        "x": 0.1,
        "y": 0.1
       },
       "content": {
        "cell": "8129c87d-1fcf-45b0-997a-ebaa58d9e6bd",
        "part": "whole"
       },
       "id": "900e725f-ccd4-4607-a252-c34610d47568"
      }
     }
    },
    "bde1bbb0-7120-4b43-b688-9df2cdf7a56c": {
     "id": "bde1bbb0-7120-4b43-b688-9df2cdf7a56c",
     "prev": "3b0142e5-542a-4e40-8092-bf8686d1dc2e",
     "regions": {
      "2bee5c52-2bbe-472a-a811-56e22ddc23b9": {
       "attrs": {
        "height": 0.8,
        "width": 0.8,
        "x": 0.1,
        "y": 0.1
       },
       "content": {
        "cell": "4e689995-d4b9-4c9b-9eac-5b3028ef5fc3",
        "part": "whole"
       },
       "id": "2bee5c52-2bbe-472a-a811-56e22ddc23b9"
      }
     }
    },
    "c9ac04e8-52ce-42a2-8e48-387af5ea269b": {
     "id": "c9ac04e8-52ce-42a2-8e48-387af5ea269b",
     "prev": "00e2a19c-743b-44fb-bcdd-72f433ff69a6",
     "regions": {
      "5941affb-98ed-4e93-bfca-e73c43afb74d": {
       "attrs": {
        "height": 0.8,
        "width": 0.8,
        "x": 0.1,
        "y": 0.1
       },
       "content": {
        "cell": "c61e044a-4227-47de-838a-843e116cc077",
        "part": "whole"
       },
       "id": "5941affb-98ed-4e93-bfca-e73c43afb74d"
      }
     }
    },
    "cb677454-b7ae-4eae-b0dd-1e8bc248fd47": {
     "id": "cb677454-b7ae-4eae-b0dd-1e8bc248fd47",
     "prev": "bde1bbb0-7120-4b43-b688-9df2cdf7a56c",
     "regions": {
      "1dd8cdac-9314-432d-87b7-8ba93b0b94c0": {
       "attrs": {
        "height": 0.8,
        "width": 0.8,
        "x": 0.1,
        "y": 0.1
       },
       "content": {
        "cell": "54fc59dc-062d-4b17-999e-c4523c7bffe6",
        "part": "whole"
       },
       "id": "1dd8cdac-9314-432d-87b7-8ba93b0b94c0"
      }
     }
    },
    "d0210d36-bf14-4d0b-bd83-d813a6011c7f": {
     "id": "d0210d36-bf14-4d0b-bd83-d813a6011c7f",
     "prev": "cb677454-b7ae-4eae-b0dd-1e8bc248fd47",
     "regions": {
      "c4048389-1fe4-4503-91b2-411c223d3f82": {
       "attrs": {
        "height": 0.8,
        "width": 0.8,
        "x": 0.1,
        "y": 0.1
       },
       "content": {
        "cell": "7bdd1240-611b-49a0-a6ad-965ff9963eb7",
        "part": "whole"
       },
       "id": "c4048389-1fe4-4503-91b2-411c223d3f82"
      }
     }
    }
   },
   "themes": {}
  }
 },
 "nbformat": 4,
 "nbformat_minor": 1
}
