{
 "cells": [
  {
   "cell_type": "code",
   "execution_count": null,
   "metadata": {
    "collapsed": false
   },
   "outputs": [],
   "source": [
    "# -*- encoding: utf-8 -*-\n",
    "import os\n",
    "import sys\n",
    "\n",
    "# 绘图包\n",
    "import matplotlib\n",
    "import matplotlib.pyplot as plt\n",
    "# 导入相关包\n",
    "%matplotlib inline\n",
    "\n",
    "import numpy as np\n",
    "import pandas as pd\n",
    "import csv\n",
    "import jieba\n",
    "import re\n",
    "import MeCab"
   ]
  },
  {
   "cell_type": "code",
   "execution_count": null,
   "metadata": {
    "collapsed": false
   },
   "outputs": [],
   "source": [
    "# reload(sys)\n",
    "# sys.setdefaultencoding('utf-8')\n",
    "csv.field_size_limit(sys.maxsize)"
   ]
  },
  {
   "cell_type": "code",
   "execution_count": null,
   "metadata": {
    "collapsed": false
   },
   "outputs": [],
   "source": [
    "# 分词\n",
    "def wakati(text,mod):\n",
    "    \n",
    "    if mod == 'jieba':\n",
    "        # 用jieba分词\n",
    "        return jieba.cut(text)\n",
    "    elif mod == 'mecab':\n",
    "        # 用mecab分词\n",
    "        tagger = MeCab.Tagger(\"-Owakati\")        \n",
    "        return tagger.parse(text)"
   ]
  },
  {
   "cell_type": "code",
   "execution_count": null,
   "metadata": {
    "collapsed": false
   },
   "outputs": [],
   "source": [
    "# 去除标点符号和特殊符号\n",
    "def scan(line):\n",
    "    string = re.sub(\"[+\\:;?\\\"\\.\\!\\/_,$%^*(+\\\"\\']+|[+——！，“”·-▲▼▽•★ˇ<>「」。？、》《~@#￥%……&*（）]+\".decode(\"utf8\"), \"\".decode(\"utf8\"),line.decode(\"utf8\")) \n",
    "    return string"
   ]
  },
  {
   "cell_type": "code",
   "execution_count": null,
   "metadata": {
    "collapsed": false
   },
   "outputs": [],
   "source": [
    "# 读取CSV文件\n",
    "def readDataFile(fileName,ptype):\n",
    "    \n",
    "    if ptype == 'train':\n",
    "        # 训练数据4个字段\n",
    "        COND = 4\n",
    "    elif ptype == 'test':\n",
    "        # 测试数据3个字段\n",
    "        COND = 3\n",
    "    \n",
    "    with open(fileName,\"rb\") as csvfile:\n",
    "        reader = csv.reader(csvfile,delimiter = '\\t')\n",
    "        # 读取内容\n",
    "        # 用csv.reader 读取 line 已经是list了\n",
    "        for line in reader:\n",
    "            if len(line) == COND:\n",
    "                # 标题分词                               \n",
    "                seg_title = wakati(scan(line[1].strip()),'jieba')\n",
    "                seg_title_return = \" \".join(seg_title)\n",
    "#                 print \",\".join(seg_title)\n",
    "                # 正文分词\n",
    "                seg_content = wakati(scan(line[2].strip()),'jieba')\n",
    "                seg_content_return = \" \".join(seg_content)\n",
    "#                 print \",\".join(seg_content)\n",
    "                if ptype == 'train':\n",
    "                    # label = line[3]\n",
    "                    yield seg_title_return,seg_content_return,line[3].strip()\n",
    "                elif ptype == 'test':\n",
    "                    # doc_id = line[0]\n",
    "                    yield seg_title_return,seg_content_return,line[0].strip()"
   ]
  },
  {
   "cell_type": "code",
   "execution_count": null,
   "metadata": {
    "collapsed": true
   },
   "outputs": [],
   "source": [
    "# 把分词以后的结果写入文件\n",
    "def writeFile(outputfile,newline):\n",
    "    \n",
    "    fw = open(outputfile, 'ab')\n",
    "    fw.write(newline.encode(\"utf-8\"))\n",
    "    fw.close()"
   ]
  },
  {
   "cell_type": "code",
   "execution_count": null,
   "metadata": {
    "collapsed": true
   },
   "outputs": [],
   "source": [
    "def run(input_file,outfile_title,outfile_content,outfile_all,ptype):\n",
    "    # 定义训练文件\n",
    "\n",
    "    # 每次获取最大件数\n",
    "    STOP_SIZE = 500000\n",
    "    # 初始化ctr值\n",
    "    ctr = 0\n",
    "    \n",
    "    for i in readDataFile(input_file,ptype):\n",
    "        if ctr< STOP_SIZE:\n",
    "            ctr +=1\n",
    "            print \"<%s>\" % (ptype) + \"第\" + str(ctr)+ \"件\"\n",
    "            #去除标点和特殊符号后的标题和内容取得\n",
    "            title = i[0]\n",
    "            content = i[1]\n",
    "            # if ptype == 'train':label = i[2]\n",
    "            # if ptype == 'test':doc_id = i[2]\n",
    "            if ptype == 'train':\n",
    "                new_title = '__label__' + i[2] + \" \" + title + \"\\n\"\n",
    "                new_content = '__label__' + i[2]+ \" \" + content + \"\\n\"\n",
    "                new_all = '__label__' + i[2] + \" \"+ title + \" \" + content+ \"\\n\"\n",
    "            elif ptype == 'test':\n",
    "                new_title = i[2] + \" \" + title + \"\\n\"\n",
    "                new_content = i[2]+ \" \" + content + \"\\n\"\n",
    "                new_all = i[2] + \" \"+ title + \" \" + content+ \"\\n\"\n",
    "            \n",
    "            #写入新的文件\n",
    "            writeFile(outfile_title,new_title)\n",
    "            writeFile(outfile_content,new_content)\n",
    "            writeFile(outfile_all,new_all)\n",
    "            \n",
    "        else:\n",
    "            break"
   ]
  },
  {
   "cell_type": "code",
   "execution_count": null,
   "metadata": {
    "collapsed": true
   },
   "outputs": [],
   "source": [
    "# Main函数\n",
    "def main():\n",
    "    # 训练数据\n",
    "    dataPath = \"/home/hadoop/DataSencise/bdci2017/BDCI2017-360/data/\"\n",
    "    input_train = dataPath + \"train.tsv\"\n",
    "    train_outfile_title = dataPath + \"train/train_output_title.tsv\"\n",
    "    train_outfile_content = dataPath + \"train/train_output_content.tsv\"\n",
    "    \n",
    "    train_outfile_all = dataPath + \"train/train_all.tsv\"\n",
    "    \n",
    "    # 测试数据\n",
    "    input_test = dataPath + \"evaluation_public.tsv\"\n",
    "    test_outfile_title = dataPath + \"test/test_output_title.tsv\"\n",
    "    test_outfile_content = dataPath + \"test/test_output_content.tsv\"\n",
    "    \n",
    "    test_outfile_all = dataPath + \"test/test_all.tsv\"\n",
    "    \n",
    "    # 处理训练文件\n",
    "#     run(input_train,train_outfile_title,train_outfile_content,train_outfile_all,'train')\n",
    "    \n",
    "    # 处理测试文件\n",
    "    run(input_test,test_outfile_title,test_outfile_content,test_outfile_all,'test')\n",
    "    "
   ]
  },
  {
   "cell_type": "code",
   "execution_count": null,
   "metadata": {
    "collapsed": false
   },
   "outputs": [],
   "source": [
    "if __name__ == '__main__':\n",
    "    main()"
   ]
  }
 ],
 "metadata": {
  "anaconda-cloud": {},
  "kernelspec": {
   "display_name": "Python [default]",
   "language": "python",
   "name": "python2"
  },
  "language_info": {
   "codemirror_mode": {
    "name": "ipython",
    "version": 2
   },
   "file_extension": ".py",
   "mimetype": "text/x-python",
   "name": "python",
   "nbconvert_exporter": "python",
   "pygments_lexer": "ipython2",
   "version": "2.7.12"
  }
 },
 "nbformat": 4,
 "nbformat_minor": 0
}
