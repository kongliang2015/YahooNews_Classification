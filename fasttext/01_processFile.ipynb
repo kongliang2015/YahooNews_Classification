{
 "cells": [
  {
   "cell_type": "code",
   "execution_count": 403,
   "metadata": {
    "collapsed": true
   },
   "outputs": [],
   "source": [
    "# -*- encoding: utf-8 -*-\n",
    "import os\n",
    "import sys\n",
    "\n",
    "# 绘图包\n",
    "import matplotlib\n",
    "import matplotlib.pyplot as plt\n",
    "# 导入相关包\n",
    "%matplotlib inline\n",
    "\n",
    "import numpy as np\n",
    "import pandas as pd\n",
    "import csv\n",
    "import jieba\n",
    "import re"
   ]
  },
  {
   "cell_type": "code",
   "execution_count": 404,
   "metadata": {
    "collapsed": false
   },
   "outputs": [],
   "source": [
    "# 读取CSV文件\n",
    "def readDataFile(fileName,ptype):\n",
    "    \n",
    "    if ptype == 'train':\n",
    "        # 训练数据4个字段\n",
    "        COND = 4\n",
    "    elif ptype == 'test':\n",
    "        # 测试数据3个字段\n",
    "        COND = 3\n",
    "\n",
    "    file = open(filename)\n",
    "    for line in file:   \n",
    "        line = line.decode(\"utf8\")\n",
    "        l_ar = line.split(\"\\t\")\n",
    "        \n",
    "        if len(l_ar) == COND:\n",
    "            id = l_ar[0]\n",
    "            print \"id is:\",id\n",
    "            lable = l_ar[3]\n",
    "            print \"lable is:\",lable\n",
    "            title = scan(l_ar[1])\n",
    "            print \"the title is:\",title\n",
    "            content = scan(l_ar[2])\n",
    "            print \"the content is :\",content\n",
    "                        \n",
    "            # 标题分词                               \n",
    "            seg_title = jieba.cut(title)\n",
    "            print \"seg_title:\",seg_title\n",
    "            seg_title_return = \"\\t\".join(seg_title)\n",
    "            \n",
    "            # 正文分词\n",
    "            seg_content = jieba.cut(content)\n",
    "            print \"seg_content:\",seg_content\n",
    "            seg_content_return = \"\\t\".join(seg_content)\n",
    "\n",
    "            if ptype == 'train':     \n",
    "                # label = line[3]\n",
    "                yield seg_title_return,seg_content_return,lable\n",
    "            elif ptype == 'test':\n",
    "                # doc_id = line[0]\n",
    "                yield seg_title_return,seg_content_return,id"
   ]
  },
  {
   "cell_type": "code",
   "execution_count": 405,
   "metadata": {
    "collapsed": true
   },
   "outputs": [],
   "source": [
    "# 去除标点符号和特殊符号\n",
    "def scan(line):\n",
    "    string = re.sub(\"[+\\s\\:\\-;?\\\"\\.\\!\\-\\/_,$%^*(+\\\"\\']+|[+——！，“”·-▲▼▽•★ˇ<>「」。？、》《~@#￥%……&*（）]+\".decode(\"utf8\"), \"\".decode(\"utf8\"),line)\n",
    "    return string"
   ]
  },
  {
   "cell_type": "code",
   "execution_count": 406,
   "metadata": {
    "collapsed": true
   },
   "outputs": [],
   "source": [
    "def makeFile(num):\n",
    "    \n",
    "    dataPath = \"/home/hadoop/Study/bdci_2017/BDCI2017-360/data/\"\n",
    "\n",
    "    # 训练数据\n",
    "    train_outfile_title = dataPath + \"train/train_output_title\" + num + \".tsv\"   \n",
    "    train_outfile_content = dataPath + \"train/train_output_content\" + num + \".tsv\"\n",
    "    \n",
    "    # 测试数据\n",
    "#     test_outfile_title = dataPath + \"test/test_output_title\" + num + \".tsv\"\n",
    "#     test_outfile_content = dataPath + \"test/test_output_content\" + num + \".tsv\"\n",
    "    \n",
    "    # 返回训练数据\n",
    "    return(train_outfile_title,train_outfile_content)\n",
    "\n",
    "    # 返回测试数据\n",
    "#     return(test_outfile_title,test_outfile_content)"
   ]
  },
  {
   "cell_type": "code",
   "execution_count": 407,
   "metadata": {
    "collapsed": true
   },
   "outputs": [],
   "source": [
    "# 把分词以后的结果写入文件\n",
    "def writeFile(outputfile,newline):\n",
    "    \n",
    "    fw = open(outputfile, 'ab')\n",
    "    fw.write(newline.encode(\"utf-8\"))\n",
    "    fw.close()"
   ]
  },
  {
   "cell_type": "code",
   "execution_count": 408,
   "metadata": {
    "collapsed": true
   },
   "outputs": [],
   "source": [
    "def run(input_file,ptype):\n",
    "\n",
    "    # 每次获取最大件数\n",
    "    STOP_SIZE = 500001\n",
    "    # 初始化ctr值\n",
    "    ctr = 0\n",
    "    \n",
    "    for i in readDataFile(input_file,ptype):\n",
    "        if ctr< STOP_SIZE:\n",
    "            ctr +=1\n",
    "            print \"<%s>\" % (ptype) + \"第\" + str(ctr)+ \"件\"\n",
    "            print i[0]\n",
    "\n",
    "            # if ptype == 'train':label = i[2]\n",
    "            # if ptype == 'test':doc_id = i[2]\n",
    "            new_title = \"__lable__\"+i[2]+ \"\\t\"+ i[0]+ \"\\n\"\n",
    "            print new_title\n",
    "            new_content = \"__lable__\"+i[2]+ \"\\t\" + i[1]+ \"\\n\"\n",
    "            print new_content\n",
    "            \n",
    "            #把出力内容，每10W件数据分别存放\n",
    "            num = \"\"\n",
    "            if ctr <= 100000:\n",
    "                num = \"01\"\n",
    "            if ctr > 100000 and ctr <=200000:\n",
    "                num = \"02\"\n",
    "            if ctr > 200000 and ctr <=300000:\n",
    "                num = \"03\"\n",
    "            if ctr > 300000 and ctr <=400000:\n",
    "                num = \"04\"\n",
    "            if ctr > 400000:\n",
    "                num = \"05\"\n",
    "            \n",
    "            # 训练数据\n",
    "            train_outfile_title,train_outfile_content = makeFile(num)\n",
    "            \n",
    "            # 测试数据\n",
    "#             test_outfile_title,test_outfile_content = makeFile(num)\n",
    "            \n",
    "            #写入新的文件（训练）\n",
    "            writeFile(train_outfile_title,new_title)\n",
    "            writeFile(train_outfile_content,new_content)\n",
    "            \n",
    "            #写入新的文件（测试）\n",
    "#             writeFile(test_outfile_title,new_title)\n",
    "#             writeFile(test_outfile_content,new_content)"
   ]
  },
  {
   "cell_type": "code",
   "execution_count": 409,
   "metadata": {
    "collapsed": true
   },
   "outputs": [],
   "source": [
    "# Main函数\n",
    "def main():\n",
    "    input_test = \"/home/hadoop/Study/bdci_2017/BDCI2017-360/data/test.tsv\"\n",
    "    # 处理测试文件\n",
    "    run(input_test,'train')"
   ]
  },
  {
   "cell_type": "code",
   "execution_count": 410,
   "metadata": {
    "collapsed": false
   },
   "outputs": [],
   "source": [
    "if __name__ == '__main__':\n",
    "    main()"
   ]
  }
 ],
 "metadata": {
  "anaconda-cloud": {},
  "kernelspec": {
   "display_name": "Python [default]",
   "language": "python",
   "name": "python2"
  },
  "language_info": {
   "codemirror_mode": {
    "name": "ipython",
    "version": 2
   },
   "file_extension": ".py",
   "mimetype": "text/x-python",
   "name": "python",
   "nbconvert_exporter": "python",
   "pygments_lexer": "ipython2",
   "version": "2.7.12"
  }
 },
 "nbformat": 4,
 "nbformat_minor": 0
}
